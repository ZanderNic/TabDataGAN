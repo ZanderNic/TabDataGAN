{
 "cells": [
  {
   "cell_type": "code",
   "execution_count": 1,
   "metadata": {},
   "outputs": [],
   "source": [
    "import pandas as pd\n",
    "from sklearn.datasets import load_iris\n",
    "\n",
    "# This Projekt import\n",
    "from table_gan.Data.dataset import CTGan_data_set\n",
    "from table_gan.Benchmark.benchmark import Benchmark\n",
    "from table_gan.Model.Gans.WCTGan import WCTGan\n",
    "from table_gan.Model.Gans._gan_utils import plot_gan_losses"
   ]
  },
  {
   "cell_type": "markdown",
   "metadata": {},
   "source": [
    "### Load Data"
   ]
  },
  {
   "cell_type": "code",
   "execution_count": 3,
   "metadata": {},
   "outputs": [],
   "source": [
    "iris = load_iris(as_frame=True)\n",
    "df = iris['frame']"
   ]
  },
  {
   "cell_type": "markdown",
   "metadata": {},
   "source": [
    "## Create Custom Dataset\n",
    "To use CTGAN, you need to create a custom dataset tailored to your specific needs. "
   ]
  },
  {
   "cell_type": "code",
   "execution_count": 4,
   "metadata": {},
   "outputs": [],
   "source": [
    "data_set = CTGan_data_set(\n",
    "    data=df,\n",
    "    cond_cols=[\"target\"],\n",
    "    cat_cols=[\"target\"]  \n",
    ")"
   ]
  },
  {
   "cell_type": "markdown",
   "metadata": {},
   "source": [
    "## Create CTGAN"
   ]
  },
  {
   "cell_type": "code",
   "execution_count": 5,
   "metadata": {},
   "outputs": [],
   "source": [
    "wctgan = WCTGan()"
   ]
  },
  {
   "cell_type": "markdown",
   "metadata": {},
   "source": [
    "## See the Training Losses"
   ]
  },
  {
   "cell_type": "code",
   "execution_count": null,
   "metadata": {},
   "outputs": [],
   "source": [
    "crit_loss, gen_loss = wctgan.fit(\n",
    "    data_set\n",
    ")\n",
    "\n",
    "plot_gan_losses(crit_loss, gen_loss)"
   ]
  },
  {
   "cell_type": "markdown",
   "metadata": {},
   "source": [
    "##  Create New Conditional Data\n",
    "\n",
    "To create data given a condition, just create a DataFrame that represents the condition. \n",
    "Generating data with a condition doesn’t guarantee that all generated data will strictly \n",
    "adhere to that condition, but it will influence the generation process.\n",
    "\n",
    "If you want to create data with no specific condition, simply pass the number of points \n",
    "you want to generate."
   ]
  },
  {
   "cell_type": "code",
   "execution_count": null,
   "metadata": {},
   "outputs": [],
   "source": [
    "cond_df = pd.DataFrame([{\"target\" : 1}]*160)\n",
    "syn_df = wctgan.gen(160)#cond_df=cond_df)\n",
    "\n",
    "print(syn_df)"
   ]
  },
  {
   "cell_type": "markdown",
   "metadata": {},
   "source": [
    "### Benchmark the Generated Data\n",
    "There are various ways to benchmark generated data. In the benchmark class, several methods are implemented \n",
    "that you can use to validate your generated data. However, \n",
    "it’s worth noting that GANs often struggle to accurately replicate even simple data distributions, as demonstrated in [source TODO]."
   ]
  },
  {
   "cell_type": "code",
   "execution_count": null,
   "metadata": {},
   "outputs": [],
   "source": [
    "benchmark = Benchmark()\n",
    "mean_rfc = benchmark.mean_rfc(df, syn_df, plot=True)"
   ]
  }
 ],
 "metadata": {
  "kernelspec": {
   "display_name": "Python 3",
   "language": "python",
   "name": "python3"
  },
  "language_info": {
   "codemirror_mode": {
    "name": "ipython",
    "version": 3
   },
   "file_extension": ".py",
   "mimetype": "text/x-python",
   "name": "python",
   "nbconvert_exporter": "python",
   "pygments_lexer": "ipython3",
   "version": "3.10.12"
  }
 },
 "nbformat": 4,
 "nbformat_minor": 2
}
